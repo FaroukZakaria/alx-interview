{
 "cells": [
  {
   "cell_type": "code",
   "execution_count": 11,
   "metadata": {},
   "outputs": [],
   "source": [
    "\"\"\"\n",
    "Pascal triangle\n",
    "\"\"\"\n",
    "def pascal_triangle(n):\n",
    "  \"\"\"\n",
    "  Uses Combination to get the pascal triangle\n",
    "  \"\"\"\n",
    "  if n <= 0:\n",
    "    return []\n",
    "  lst = [[]]\n",
    "  for i in range(n):\n",
    "    row = []\n",
    "    for j in range(i + 1):\n",
    "      print(f\"value of j is {j}\")\n",
    "      row.append((my_factorial(i))/(my_factorial(j) * my_factorial(i - j)))\n",
    "      print(f\"row{j} is {row}\")\n",
    "    lst.append(row)\n",
    "  print(lst)\n",
    "  return lst\n",
    "\n",
    "def my_factorial(n):\n",
    "  \"\"\"\n",
    "  Custom factorial function\n",
    "  \"\"\"\n",
    "  if n <= 0:\n",
    "    return 1\n",
    "  return(int(n * my_factorial(n-1)))"
   ]
  },
  {
   "cell_type": "code",
   "execution_count": 12,
   "metadata": {},
   "outputs": [
    {
     "name": "stdout",
     "output_type": "stream",
     "text": [
      "value of j is 0\n",
      "row0 is [1.0]\n",
      "value of j is 1\n",
      "row1 is [1.0, 1.0]\n",
      "value of j is 2\n",
      "row2 is [1.0, 1.0, 0.5]\n",
      "value of j is 0\n",
      "row0 is [1.0]\n",
      "value of j is 1\n",
      "row1 is [1.0, 1.0]\n",
      "value of j is 2\n",
      "row2 is [1.0, 1.0, 0.5]\n",
      "value of j is 0\n",
      "row0 is [1.0]\n",
      "value of j is 1\n",
      "row1 is [1.0, 2.0]\n",
      "value of j is 2\n",
      "row2 is [1.0, 2.0, 1.0]\n",
      "[[], [1.0, 1.0, 0.5], [1.0, 1.0, 0.5], [1.0, 2.0, 1.0]]\n"
     ]
    },
    {
     "data": {
      "text/plain": [
       "[[], [1.0, 1.0, 0.5], [1.0, 1.0, 0.5], [1.0, 2.0, 1.0]]"
      ]
     },
     "execution_count": 12,
     "metadata": {},
     "output_type": "execute_result"
    }
   ],
   "source": [
    "pascal_triangle(3)"
   ]
  },
  {
   "cell_type": "code",
   "execution_count": null,
   "metadata": {},
   "outputs": [],
   "source": []
  }
 ],
 "metadata": {
  "kernelspec": {
   "display_name": "Python 3",
   "language": "python",
   "name": "python3"
  },
  "language_info": {
   "codemirror_mode": {
    "name": "ipython",
    "version": 3
   },
   "file_extension": ".py",
   "mimetype": "text/x-python",
   "name": "python",
   "nbconvert_exporter": "python",
   "pygments_lexer": "ipython3",
   "version": "3.11.7"
  }
 },
 "nbformat": 4,
 "nbformat_minor": 2
}
